{
 "cells": [
  {
   "cell_type": "code",
   "execution_count": 1,
   "metadata": {},
   "outputs": [],
   "source": [
    "from IPython.core.interactiveshell import InteractiveShell\n",
    "InteractiveShell.ast_node_interactivity = 'all' #默认为’last’\n",
    "\n",
    "import pandas as pd\n",
    "from gmplot import gmplot\n",
    "import numpy as np\n",
    "import random\n",
    "random.seed(10)\n",
    "from geopy import distance\n",
    "pd.set_option('display.max_columns', None)\n",
    "#显示所有行\n",
    "pd.set_option('display.max_rows', None)\n",
    "#设置value的显示长度为100，默认为50\n",
    "pd.set_option('max_colwidth',100)\n",
    "import matplotlib.pyplot as plt\n",
    "import glob\n",
    "import os\n",
    "import geopy.distance\n",
    "from dipy.segment.metric import Metric\n",
    "from dipy.segment.metric import mdf\n",
    "from dipy.segment.metric import ResampleFeature\n",
    "\n",
    "from dipy.segment.clustering import QuickBundles\n",
    "from dipy.segment.clustering import QuickBundlesX\n",
    "from gmplot import gmplot\n",
    "from calculateTime import CalculateTime\n",
    "import math\n",
    "from fastdtw import fastdtw\n",
    "from fastdtw import dtw"
   ]
  },
  {
   "cell_type": "code",
   "execution_count": 2,
   "metadata": {},
   "outputs": [],
   "source": [
    "def calT(t1,t2):  #计算时间差\n",
    "    return (CalculateTime(t2)-CalculateTime(t1)).seconds\n",
    "\n",
    "\n",
    "def calDis(first,second):   ##计算轨迹点间距离\n",
    "    return distance.distance(first,second).meters\n",
    "\n",
    "def seg(dataFra,T=30):   #根据阈值长度，两点间距离截取单个轨迹段\n",
    "    pointset=[]\n",
    "    for i in range(dataFra.shape[0]-1):\n",
    "        first=(dataFra.loc[i,['LAT']].LAT,dataFra.loc[i,['LON']].LON)\n",
    "        second=(dataFra.loc[i+1,['LAT']].LAT,dataFra.loc[i+1,['LON']].LON)\n",
    "        dis=calDis(first,second)\n",
    "        if dis<40:\n",
    "            pointset.append(i)\n",
    "    \n",
    "    segTraSet=[]\n",
    "    if len(pointset)==0:\n",
    "        segTraSet.append(dataFra)\n",
    "        return segTraSet\n",
    "    \n",
    "    init=0\n",
    "    for i in pointset:\n",
    "        tmp=dataFra.iloc[init:i+1,:]\n",
    "        if tmp.shape[0]>T:\n",
    "            segTraSet.append(tmp)\n",
    "        init=i+1\n",
    "    tmp=dataFra.iloc[init:,:]\n",
    "    if tmp.shape[0]>T:\n",
    "            segTraSet.append(tmp)\n",
    "    return segTraSet"
   ]
  },
  {
   "cell_type": "code",
   "execution_count": 3,
   "metadata": {},
   "outputs": [],
   "source": [
    "def segMMSI(path):         ##根据MMSI号分离轨迹\n",
    "    AisData=pd.read_csv(path)\n",
    "    mmsi=AisData['MMSI'].unique()\n",
    "    fdata=[]\n",
    "    for i,mi in enumerate(mmsi):\n",
    "        temp=AisData[AisData['MMSI']==mmsi[i]]\n",
    "        temp=temp.sort_values(by=['BaseDateTime'])\n",
    "        temp.index=list(range(len(temp)))\n",
    "\n",
    "        fdata.append(temp)\n",
    "    return fdata"
   ]
  },
  {
   "cell_type": "code",
   "execution_count": 4,
   "metadata": {},
   "outputs": [],
   "source": [
    "def segAll(fdata,T=30):        ##按距离分离全部轨迹段\n",
    "    segFinal=[]\n",
    "    for data in fdata:\n",
    "        sub=seg(data)\n",
    "        for item in sub:\n",
    "            if len(item)>T:\n",
    "                item.index=range(len(item))\n",
    "                segFinal.append(item)\n",
    "    return segFinal"
   ]
  },
  {
   "cell_type": "code",
   "execution_count": 5,
   "metadata": {},
   "outputs": [],
   "source": [
    "#按时间间隔与位置点容量  分离轨迹\n",
    "def segTime(dataFra,T=30):\n",
    "    pointset=[]\n",
    "    for i in range(dataFra.shape[0]-1):\n",
    "        t1=CalculateTime(dataFra.loc[i,['BaseDateTime']].BaseDateTime)\n",
    "        t2=CalculateTime(dataFra.loc[i+1,['BaseDateTime']].BaseDateTime)\n",
    "        delta_time=(t2-t1).seconds\n",
    "        \n",
    "        if delta_time>600:\n",
    "            pointset.append(i)\n",
    "    segTraSet=[]\n",
    "    if len(pointset)==0:\n",
    "        segTraSet.append(dataFra)\n",
    "        return segTraSet\n",
    "    init=0\n",
    "    for i in pointset:\n",
    "        tmp=dataFra.iloc[init:i+1,:]\n",
    "        if tmp.shape[0]>T:\n",
    "            segTraSet.append(tmp)\n",
    "        init=i+1\n",
    "    tmp=dataFra.iloc[init:,:]\n",
    "    if tmp.shape[0]>T:\n",
    "            segTraSet.append(tmp)\n",
    "    return segTraSet"
   ]
  },
  {
   "cell_type": "code",
   "execution_count": 6,
   "metadata": {},
   "outputs": [],
   "source": [
    "def segTimeALL(fdata,T=30):\n",
    "    segFinal=[]\n",
    "    for data in fdata:\n",
    "        sub=segTime(data)\n",
    "        for item in sub:\n",
    "            if len(item)>T:\n",
    "                item.index=range(len(item))\n",
    "                segFinal.append(item)\n",
    "    return segFinal"
   ]
  },
  {
   "cell_type": "code",
   "execution_count": 2,
   "metadata": {},
   "outputs": [],
   "source": [
    "def randomcolor():\n",
    "    colorArr = ['1','2','3','4','5','6','7','8','9','A','B','C','D','E','F']\n",
    "    color = \"\"\n",
    "    for i in range(6):\n",
    "        color += colorArr[random.randint(0,14)]\n",
    "    return \"#\"+color"
   ]
  },
  {
   "cell_type": "code",
   "execution_count": 8,
   "metadata": {},
   "outputs": [],
   "source": [
    "def dtw_distance(ts_a, ts_b, d=lambda x,y: geopy.distance.distance([x[0], x[1]], [y[0], y[1]]).kilometers, mww=10000):\n",
    "    \"\"\"Computes dtw distance between two time series\n",
    "    \n",
    "    Args:\n",
    "        ts_a: time series a\n",
    "        ts_b: time series b\n",
    "        d: distance function\n",
    "        mww: max warping window, int, optional (default = infinity)\n",
    "        \n",
    "    Returns:\n",
    "        dtw distance\n",
    "    \"\"\"\n",
    "    \n",
    "    # Create cost matrix via broadcasting with large int\n",
    "    ts_a, ts_b = np.array(ts_a), np.array(ts_b)\n",
    "    M, N = len(ts_a), len(ts_b)\n",
    "    cost = np.ones((M, N))\n",
    "\n",
    "    # Initialize the first row and column\n",
    "    cost[0, 0] = d(ts_a[0], ts_b[0])\n",
    "    for i in range(1, M):\n",
    "        cost[i, 0] = cost[i-1, 0] + d(ts_a[i], ts_b[0])\n",
    "\n",
    "    for j in range(1, N):\n",
    "        cost[0, j] = cost[0, j-1] + d(ts_a[0], ts_b[j])\n",
    "\n",
    "    # Populate rest of cost matrix within window\n",
    "    for i in range(1, M):\n",
    "        for j in range(max(1, i - mww), min(N, i + mww)):\n",
    "            choices = cost[i-1, j-1], cost[i, j-1], cost[i-1, j]\n",
    "            cost[i, j] = min(choices) + d(ts_a[i], ts_b[j])\n",
    "\n",
    "    # Return DTW distance given window \n",
    "    return cost[-1, -1]"
   ]
  },
  {
   "cell_type": "code",
   "execution_count": 9,
   "metadata": {},
   "outputs": [],
   "source": [
    "path=\"C:\\\\Code\\\\毕业设计\\\\轨迹聚类\\\\data\\\\WGH\\\\*csv\"\n",
    "pathls=glob.glob(path)"
   ]
  },
  {
   "cell_type": "code",
   "execution_count": 10,
   "metadata": {},
   "outputs": [],
   "source": [
    "fdata=segMMSI(pathls[0])\n",
    "segFinal=segAll(fdata)\n",
    "segTimeFinal=segTimeALL(segFinal)"
   ]
  },
  {
   "cell_type": "code",
   "execution_count": 11,
   "metadata": {},
   "outputs": [
    {
     "name": "stderr",
     "output_type": "stream",
     "text": [
      "C:\\software\\Anaconda3\\envs\\BY\\lib\\site-packages\\ipykernel_launcher.py:4: SettingWithCopyWarning: \n",
      "A value is trying to be set on a copy of a slice from a DataFrame.\n",
      "Try using .loc[row_indexer,col_indexer] = value instead\n",
      "\n",
      "See the caveats in the documentation: https://pandas.pydata.org/pandas-docs/stable/user_guide/indexing.html#returning-a-view-versus-a-copy\n",
      "  after removing the cwd from sys.path.\n"
     ]
    }
   ],
   "source": [
    "for p in pathls[1:]:\n",
    "    segTimeFinal.extend(segTimeALL(segAll(segMMSI(p))))\n",
    "for i in range(len(segTimeFinal)):\n",
    "    segTimeFinal[i]['BaseDateTime']=segTimeFinal[i]['BaseDateTime'].apply(CalculateTime)"
   ]
  },
  {
   "cell_type": "code",
   "execution_count": null,
   "metadata": {},
   "outputs": [],
   "source": [
    "streams=[]\n",
    "streams_time=[]\n",
    "for i in range(len(segTimeFinal)):\n",
    "   \n",
    "    tmp_time=np.array(segTimeFinal[i].loc[:,['LAT','LON','MMSI']])\n",
    "    tmp=np.array(segTimeFinal[i].loc[:,['LAT','LON']])\n",
    "    streams.append(tmp)\n",
    "    streams_time.append(tmp_time)\n",
    "streams=np.array(streams)\n",
    "streams_time=np.array(streams_time)"
   ]
  },
  {
   "cell_type": "markdown",
   "metadata": {},
   "source": [
    "**分类+展示**"
   ]
  },
  {
   "cell_type": "code",
   "execution_count": 124,
   "metadata": {
    "scrolled": true,
    "tags": []
   },
   "outputs": [
    {
     "name": "stdout",
     "output_type": "stream",
     "text": [
      "Nb. clusters: 17\n",
      "Wall time: 265 ms\n"
     ]
    }
   ],
   "source": [
    "%%time\n",
    "THRESHOLD =5 #越高分类数越少\n",
    "class GPSDistance(Metric):\n",
    "    def __init__(self):\n",
    "        super(GPSDistance, self).__init__(feature=ResampleFeature(nb_points=50))\n",
    "\n",
    "    def are_compatible(self, shape1, shape2):\n",
    "        return len(shape1) == len(shape2)\n",
    "\n",
    "#     def dist(self, v1, v2):\n",
    "#         x = [geopy.distance.distance([p[0][0], p[0][1]], [p[1][0], p[1][1]]).kilometers for p in list(zip(v1, v2))]\n",
    "#         currD = np.mean(x)\n",
    "#         return currD\n",
    "    \n",
    "#     def dist(self, v1, v2):\n",
    "#          #3\n",
    "#         currD=dtw(v1,v2)[0]\n",
    "#         return currD\n",
    "    \n",
    "#     def dist(self,v1,v2):\n",
    "#         #MDF\n",
    "#         x1 = [geopy.distance.distance([p[0][0], p[0][1]], [p[1][0], p[1][1]]).kilometers for p in list(zip(v1, v2))]\n",
    "#         d_direct=np.mean(x1)\n",
    "#         x2= [geopy.distance.distance([p[0][0], p[0][1]], [p[1][0], p[1][1]]).kilometers for p in list(zip(v1, v2[::-1]))]\n",
    "#         d_flipped=np.mean(x2)\n",
    "#         currD=min(d_direct,d_flipped)\n",
    "#         return currD\n",
    "\n",
    "#     def dist(self,v1,v2):\n",
    "#         #MDF 4\n",
    "#         x1 = [geopy.distance.distance([p[0][0], p[0][1]], [p[1][0], p[1][1]]).kilometers for p in list(zip(v1, v2))]\n",
    "#         d_direct=np.mean(x1)\n",
    "#         x2= [geopy.distance.distance([p[0][0], p[0][1]], [p[1][0], p[1][1]]).kilometers for p in list(zip(v1, v2[::-1]))]\n",
    "#         d_flipped=np.mean(x2)\n",
    "#         currD=min(d_direct,d_flipped)\n",
    "#         return currD\n",
    "\n",
    "    def dist(self, v1, v2):\n",
    "        #5.5\n",
    "        currD=mdf(v1,v2)\n",
    "        return currD*100\n",
    "    \n",
    "metric = GPSDistance()\n",
    "qb = QuickBundles(threshold=THRESHOLD,metric=metric)\n",
    "\n",
    "clusters = qb.cluster(streams)\n",
    "print(\"Nb. clusters:\", len(clusters))"
   ]
  },
  {
   "cell_type": "code",
   "execution_count": 125,
   "metadata": {},
   "outputs": [],
   "source": [
    "gmap = gmplot.GoogleMapPlotter(streams[0][0,0], streams[0][0,1], 12)\n",
    "# MM=[]\n",
    "\n",
    "for clustersIndex in range(len(clusters)):\n",
    "    color = randomcolor()\n",
    "#     if len(clusters[clustersIndex].indices)==18:\n",
    "#            continue\n",
    "#     if len(clusters[clustersIndex].indices)==20:\n",
    "#            continue        \n",
    "#     if len(clusters[clustersIndex].indices) in changdu:\n",
    "#             continue\n",
    "#     alltra=[]\n",
    "    for i in clusters[clustersIndex].indices:\n",
    "#         MM.append(i)\n",
    "        gmap.plot(streams[i][:,0], streams[i][:,1], color, edge_width=1)\n",
    "#         tocsv.append(streams_time[i])\n",
    "#         alltra.append(streams[i])\n",
    "#     np.save(f\"../HtmlMap/9month/{len(alltra)}.npy\",np.array(alltra))\n",
    "gmap.draw(\"../HtmlMap/WGH9_Clu_all.html\")\n",
    "# gmap.draw(\"../HtmlMap/WGH_Clu_3-6_MDF_f5.5.html\")"
   ]
  },
  {
   "cell_type": "code",
   "execution_count": 96,
   "metadata": {},
   "outputs": [],
   "source": [
    "gmap = gmplot.GoogleMapPlotter(streams[0][0,0], streams[0][0,1], 12)\n",
    "\n",
    "for clustersIndex in range(len(clusters)):\n",
    "    color = randomcolor()\n",
    "#     if len(clusters[clustersIndex].indices)<30:\n",
    "#             continue\n",
    "#     if len(clusters[clustersIndex].indices) in changdu:\n",
    "#             continue\n",
    "    for i in clusters[clustersIndex].indices:\n",
    "        gmap.plot(streams[i][:,0], streams[i][:,1], color, edge_width=1)\n",
    "#         tocsv.append(streams_time[i])\n",
    "    gmap.draw(f\"../HtmlMap/910-930/WGH-{len(clusters[clustersIndex].indices)}.html\")"
   ]
  },
  {
   "cell_type": "markdown",
   "metadata": {},
   "source": [
    "**展示**"
   ]
  },
  {
   "cell_type": "markdown",
   "metadata": {},
   "source": [
    "**单条**显示"
   ]
  },
  {
   "cell_type": "code",
   "execution_count": 116,
   "metadata": {},
   "outputs": [],
   "source": [
    "gmap = gmplot.GoogleMapPlotter(streams[0][0,0], streams[0][0,1], 12)\n",
    "for i in range(len(clusters[8])):\n",
    "    if 5<i <10:\n",
    "        gmap.plot(clusters[8][i][:,0],clusters[8][i][:,1], randomcolor(), edge_width=1)\n",
    "\n",
    "gmap.draw(\"../HtmlMap/WGH_sub1.html\")"
   ]
  }
 ],
 "metadata": {
  "kernelspec": {
   "display_name": "Python 3.6.10 64-bit ('BY': conda)",
   "language": "python",
   "name": "python361064bitbyconda18ff7c5a2a8f40299e86077d23ec30cd"
  },
  "language_info": {
   "codemirror_mode": {
    "name": "ipython",
    "version": 3
   },
   "file_extension": ".py",
   "mimetype": "text/x-python",
   "name": "python",
   "nbconvert_exporter": "python",
   "pygments_lexer": "ipython3",
   "version": "3.6.10"
  }
 },
 "nbformat": 4,
 "nbformat_minor": 4
}
